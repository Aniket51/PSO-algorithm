{
 "cells": [
  {
   "cell_type": "code",
   "execution_count": 33,
   "metadata": {},
   "outputs": [
    {
     "name": "stdout",
     "output_type": "stream",
     "text": [
      "Results saved to pso_analysis_results.xlsx.\n"
     ]
    }
   ],
   "source": [
    "import numpy as np\n",
    "import pandas as pd\n",
    "from scipy import stats\n",
    "import os\n",
    "\n",
    "# Load your data files. Replace 'standard_pso.xlsx' and 'modified_pso.xlsx' with your actual file paths.\n",
    "df_standard = pd.read_excel('pso_iteration_details.xlsx')\n",
    "df_modified = pd.read_excel('modified_pso_iteration_details.xlsx')\n",
    "\n",
    "# Filter the data if needed, for example by function name\n",
    "# df_standard = df_standard[df_standard['Function'] == 'some_function']\n",
    "# df_modified = df_modified[df_modified['Function'] == 'some_function']\n",
    "\n",
    "# Calculate the means and standard deviations of the best values for each algorithm\n",
    "mean_standard = df_standard['Best Value'].mean()\n",
    "mean_modified = df_modified['Best Value'].mean()\n",
    "\n",
    "std_standard = df_standard['Best Value'].std(ddof=1)  # ddof=1 provides the sample standard deviation\n",
    "std_modified = df_modified['Best Value'].std(ddof=1)\n",
    "\n",
    "# Calculate the sample sizes\n",
    "n_standard = df_standard['Best Value'].count()\n",
    "n_modified = df_modified['Best Value'].count()\n",
    "\n",
    "# Calculate the standard error\n",
    "se_standard = std_standard / np.sqrt(n_standard)\n",
    "se_modified = std_modified / np.sqrt(n_modified)\n",
    "\n",
    "# Calculate the t-statistic\n",
    "t_stat = (mean_standard - mean_modified) / np.sqrt(se_standard**2 + se_modified**2)\n",
    "\n",
    "# Calculate the degrees of freedom for the t-test\n",
    "df = ((se_standard**2 + se_modified**2)**2) / ((se_standard**4 / (n_standard - 1)) + (se_modified**4 / (n_modified - 1)))\n",
    "\n",
    "# Get the p-value\n",
    "p_value = stats.t.sf(np.abs(t_stat), df) * 2  # Multiply by 2 for a two-tailed test\n",
    "\n",
    "results_data = {\n",
    "    'Run Number': 0,\n",
    "    'Standard PSO Mean Value': mean_standard,\n",
    "    'Modified PSO Mean Value': mean_modified,\n",
    "    'Standard PSO Standard Deviation': std_standard,\n",
    "    'Modified PSO Standard Deviation': std_modified,\n",
    "    'T-statistic': t_stat,\n",
    "    'P-value': p_value\n",
    "}\n",
    "results_df = pd.DataFrame([results_data])\n",
    "\n",
    "results_file_path = 'pso_analysis_results.xlsx'\n",
    "\n",
    "# Check if file exists and append or create as necessary\n",
    "if os.path.exists(results_file_path):\n",
    "    # Load existing data\n",
    "    existing_data = pd.read_excel(results_file_path)\n",
    "    if 'Run Number' in existing_data.columns:\n",
    "        next_run_number = existing_data['Run Number'].max() + 1\n",
    "    else:\n",
    "        next_run_number = 1  # Assuming this is the first run with run numbers\n",
    "    results_df['Run Number'] = next_run_number\n",
    "    # Append new data\n",
    "    updated_data = pd.concat([existing_data, results_df], ignore_index=True)\n",
    "else:\n",
    "    # Use new data as the initial dataset\n",
    "    results_df['Run Number'] = 1\n",
    "    updated_data = results_df\n",
    "\n",
    "# Save updated data to Excel\n",
    "updated_data.to_excel(results_file_path, index=False)\n",
    "\n",
    "print(f'Results saved to {results_file_path}.')\n"
   ]
  }
 ],
 "metadata": {
  "kernelspec": {
   "display_name": "base",
   "language": "python",
   "name": "python3"
  },
  "language_info": {
   "codemirror_mode": {
    "name": "ipython",
    "version": 3
   },
   "file_extension": ".py",
   "mimetype": "text/x-python",
   "name": "python",
   "nbconvert_exporter": "python",
   "pygments_lexer": "ipython3",
   "version": "3.11.5"
  }
 },
 "nbformat": 4,
 "nbformat_minor": 2
}
